{
 "cells": [
  {
   "cell_type": "code",
   "execution_count": 8,
   "id": "f0b595d6-316c-4965-bec5-d115162d4a8a",
   "metadata": {},
   "outputs": [
    {
     "data": {
      "application/vnd.jupyter.widget-view+json": {
       "model_id": "dc20ce76e1ce461fbf9e52b9e98f76b7",
       "version_major": 2,
       "version_minor": 0
      },
      "text/plain": [
       "VBox(children=(HTMLMath(value='Treating \\\\(\\\\left[ z\\\\right]\\\\) as the variable in the monomial \\\\(a^{2} z^{2}…"
      ]
     },
     "metadata": {},
     "output_type": "display_data"
    }
   ],
   "source": [
    "from ipywidgets import *\n",
    "from sympy import *\n",
    "init_printing()\n",
    "from sympy.abc import a, b, c, x, y, z\n",
    "from random import *\n",
    "import functools\n",
    "import ipywidgets as widgets\n",
    "\n",
    "# Randomly choose between one an three elements of a list\n",
    "def choose (ListOfLetters):\n",
    "        picks = []\n",
    "        while len(picks)<1 or len(picks)>3:\n",
    "            picks = sample(range(0, len(ListOfLetters)), randint(1, len(ListOfLetters)))\n",
    "        return [ListOfLetters[p] for p in picks]\n",
    "# Randomly assign exponents to each value in the input list. \n",
    "def assignExponents (InputList):\n",
    "    exponents = sample(range(1, 5), len(InputList))\n",
    "    return [l**e for (l, e) in zip(InputList, exponents)]\n",
    "# Convert input expression to Latex code\n",
    "def tex(expression):\n",
    "    return latex(eval(str(expression)))\n",
    "A = [a, b, c, x, y, z]\n",
    "variables = choose(A)\n",
    "varlist = assignExponents(variables)\n",
    "constants = choose(list(set(set(A).difference(set(variables)))))\n",
    "coefflist = assignExponents(constants)\n",
    "variable = prod(varlist)\n",
    "if randint(1, 6) % 3 == 0:\n",
    "    coefficient = prod(coefflist) * Rational(randint(1, 6), randint(1, 6))\n",
    "else: \n",
    "    coefficient = prod(coefflist)\n",
    "expr = coefficient * variable\n",
    "var_deglist= {x:int(degree_list(x)[0]) for x in varlist}\n",
    "degree = str(sum(var_deglist.values()))\n",
    "question = widgets.HTMLMath(\n",
    "    value=r\"Treating \\(\" + tex(variables) + \"\\) as the variable in the monomial \\(\" + tex(expr) + \"\\), determine the degree and coefficient.\"\n",
    ")\n",
    "text1 = widgets.Text(\n",
    "       value='',\n",
    "       description='degree', )\n",
    "text2 = widgets.Text(\n",
    "       value='',\n",
    "       description='coeffiecient', )\n",
    "button = widgets.Button(description='Check Answer')\n",
    "out = widgets.Output()\n",
    "def on_button_clicked(_):\n",
    "      # \"linking function with output\"\n",
    "      with out:\n",
    "          # what happens when we press the button\n",
    "          out.clear_output()\n",
    "          if text1.value== degree and eval(text2.value) == coefficient:\n",
    "            print(\"Correct!\")\n",
    "          else:\n",
    "            print(\"Incorrect\")\n",
    "          display(widgets.HTMLMath(\n",
    "          value = r\"The exponents of the terms in the variable: \\(\" + tex(var_deglist) +\"\\) sum to \"+ degree +\", which is the degree. Treating all other objects as constants, the coefficient is \\(\" + tex(str(coefficient))+\"\\).\"\n",
    "))\n",
    "# linking button and function together using a button's method\n",
    "button.on_click(on_button_clicked)\n",
    "# displaying button and its output together\n",
    "widgets.VBox([question, text1, text2, button, out])"
   ]
  },
  {
   "cell_type": "code",
   "execution_count": null,
   "id": "a16529d9-09ec-4bb6-86eb-e26259389394",
   "metadata": {},
   "outputs": [],
   "source": []
  },
  {
   "cell_type": "code",
   "execution_count": null,
   "id": "91cd072f-8f19-48a5-84e9-04598562ac9a",
   "metadata": {},
   "outputs": [],
   "source": []
  },
  {
   "cell_type": "code",
   "execution_count": null,
   "id": "4dc71f9a-42ab-4d6d-83fb-4e3777a61778",
   "metadata": {},
   "outputs": [],
   "source": []
  }
 ],
 "metadata": {
  "kernelspec": {
   "display_name": "Python 3",
   "language": "python",
   "name": "python3"
  },
  "language_info": {
   "codemirror_mode": {
    "name": "ipython",
    "version": 3
   },
   "file_extension": ".py",
   "mimetype": "text/x-python",
   "name": "python",
   "nbconvert_exporter": "python",
   "pygments_lexer": "ipython3",
   "version": "3.8.8"
  }
 },
 "nbformat": 4,
 "nbformat_minor": 5
}
