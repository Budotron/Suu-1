{
 "cells": [
  {
   "cell_type": "code",
   "execution_count": 3,
   "id": "f770f77a",
   "metadata": {
    "scrolled": true
   },
   "outputs": [
    {
     "data": {
      "text/html": [
       "<script>jQuery(function() {if (jQuery(\"body.notebook_app\").length == 0) { jQuery(\".input_area\").toggle(); jQuery(\".prompt\").toggle();}});</script>"
      ]
     },
     "metadata": {},
     "output_type": "display_data"
    },
    {
     "data": {
      "text/html": [
       "<button onclick=\"jQuery('.input_area').toggle(); jQuery('.prompt').toggle();\">Toggle code</button>"
      ]
     },
     "metadata": {},
     "output_type": "display_data"
    }
   ],
   "source": [
    "# Thanks to user394430 on StackOverflow for this!\n",
    "from IPython.display import display\n",
    "from IPython.display import HTML\n",
    "import IPython.core.display as di # Example: di.display_html('<h3>%s:</h3>' % str, raw=True)\n",
    "\n",
    "# This line will hide code by default when the notebook is exported as HTML\n",
    "di.display_html('<script>jQuery(function() {if (jQuery(\"body.notebook_app\").length == 0) { jQuery(\".input_area\").toggle(); jQuery(\".prompt\").toggle();}});</script>', raw=True)\n",
    "\n",
    "# This line will add a button to toggle visibility of code blocks, for use with the HTML export version\n",
    "di.display_html('''<button onclick=\"jQuery('.input_area').toggle(); jQuery('.prompt').toggle();\">Toggle code</button>''', raw=True)\n",
    "\n",
    "\n",
    "from ipywidgets import *\n",
    "from sympy import *\n",
    "init_printing()\n",
    "from sympy.abc import a, b, c, x, y, z\n",
    "from random import *\n",
    "import functools\n",
    "\n",
    "from ipynb.fs.full.Monomial import *\n",
    "\n",
    "LoL = [a, b, c, x, y, z]\n",
    "\n",
    "varlist = choose(LoL)\n",
    "coefflist = [x for x in range(-3,3) if x != 0]\n",
    "if len(varlist)>1:\n",
    "    if randint(1,2)==1:\n",
    "        f1 = (varlist[0] * coefflist[randint(0,4)] + varlist[1] * coefflist[randint(0,4)])\n",
    "        f2 = (varlist[0] * coefflist[randint(0,4)] + varlist[1] * coefflist[randint(0,4)])\n",
    "        f3 = (varlist[0] * coefflist[randint(0,4)] + varlist[1] * coefflist[randint(0,4)])\n",
    "        f4 = (varlist[0] * coefflist[randint(0,4)] + varlist[1] * coefflist[randint(0,4)])\n",
    "        problem = tex(expand(f1*f2)) + tex(expand(f2*f3))\n",
    "        else: \n",
    "            "
   ]
  },
  {
   "cell_type": "code",
   "execution_count": 107,
   "id": "68e04999",
   "metadata": {},
   "outputs": [
    {
     "data": {
      "image/png": "[encoded data removed]",
      "text/latex": [
       "$\\displaystyle \\left[ b, \\  z\\right]$"
      ],
      "text/plain": [
       "[b, z]"
      ]
     },
     "execution_count": 107,
     "metadata": {},
     "output_type": "execute_result"
    }
   ],
   "source": [
    "varlist = choose(LoL)\n",
    "varlist"
   ]
  },
  {
   "cell_type": "code",
   "execution_count": 126,
   "id": "a93fb59b",
   "metadata": {},
   "outputs": [],
   "source": [
    "coefflist = [x for x in range(-3,3) if x != 0]\n",
    "f1 = (varlist[0] * randint(-3,3) + varlist[1] * coefflist[randint(0,4)])\n",
    "f2 = (varlist[0] * coefflist[randint(0,4)] + varlist[1] * coefflist[randint(0,4)])\n",
    "f3 = (varlist[0] * coefflist[randint(0,4)] + varlist[1] * coefflist[randint(0,4)])\n",
    "f4 = (varlist[0] * coefflist[randint(0,4)] + varlist[1] * coefflist[randint(0,4)])"
   ]
  },
  {
   "cell_type": "code",
   "execution_count": 127,
   "id": "f50c7c70",
   "metadata": {
    "scrolled": true
   },
   "outputs": [
    {
     "data": {
      "text/plain": [
       "'4 b z + 6 z^{2}- 2 b^{2} - 5 b z - 3 z^{2}'"
      ]
     },
     "execution_count": 127,
     "metadata": {},
     "output_type": "execute_result"
    }
   ],
   "source": [
    "tex(expand(f1*f2)) + tex(expand(f2*f3))"
   ]
  },
  {
   "cell_type": "code",
   "execution_count": 121,
   "id": "0740c964",
   "metadata": {},
   "outputs": [
    {
     "data": {
      "text/plain": [
       "sympy.core.add.Add"
      ]
     },
     "execution_count": 121,
     "metadata": {},
     "output_type": "execute_result"
    }
   ],
   "source": [
    "type(f1)"
   ]
  },
  {
   "cell_type": "code",
   "execution_count": 125,
   "id": "f358d818",
   "metadata": {},
   "outputs": [
    {
     "data": {
      "image/png": "[encoded data removed]",
      "text/latex": [
       "$\\displaystyle \\left\\{ b : -1, \\  z : -1\\right\\}$"
      ],
      "text/plain": [
       "defaultdict(int, {b: -1, z: -1})"
      ]
     },
     "execution_count": 125,
     "metadata": {},
     "output_type": "execute_result"
    }
   ],
   "source": [
    "f1.as_coefficients_dict()[]"
   ]
  },
  {
   "cell_type": "code",
   "execution_count": 135,
   "id": "91f1f7a7",
   "metadata": {},
   "outputs": [],
   "source": [
    "if len(varlist)>1:\n",
    "    f1 = (randint(-3,3)*varlist[0] + randint(-3,3) * varlist[1])\n",
    "    f2 = (randint(-3,3)*varlist[0] + randint(-3,3) * varlist[1])\n",
    "    f3 = (randint(-3,3)*varlist[0] + randint(-3,3) * varlist[1])\n",
    "    f4 = (randint(-3,3)*varlist[0] + randint(-3,3) * varlist[1])\n",
    "    problem = tex(expand(f1*f2)) + tex(expand(f2*f3))"
   ]
  },
  {
   "cell_type": "code",
   "execution_count": 136,
   "id": "30f61045",
   "metadata": {},
   "outputs": [
    {
     "data": {
      "text/plain": [
       "'- 9 b^{2} - 3 b z + 6 z^{2}- 9 b z - 9 z^{2}'"
      ]
     },
     "execution_count": 136,
     "metadata": {},
     "output_type": "execute_result"
    }
   ],
   "source": [
    "problem"
   ]
  },
  {
   "cell_type": "code",
   "execution_count": 137,
   "id": "9af4ea00",
   "metadata": {},
   "outputs": [
    {
     "data": {
      "text/plain": [
       "['- 9 b^{2}', '3 b z + 6 z^{2}- 9 b z', '9 z^{2}']"
      ]
     },
     "execution_count": 137,
     "metadata": {},
     "output_type": "execute_result"
    }
   ],
   "source": [
    "problem.split(\" - \")"
   ]
  },
  {
   "cell_type": "code",
   "execution_count": 93,
   "id": "5ea514fb",
   "metadata": {},
   "outputs": [],
   "source": [
    "p=q1+q2"
   ]
  },
  {
   "cell_type": "code",
   "execution_count": 103,
   "id": "a87f6dba",
   "metadata": {},
   "outputs": [
    {
     "data": {
      "application/vnd.jupyter.widget-view+json": {
       "model_id": "63a17784b39644a6a3e4143ec3989983",
       "version_major": 2,
       "version_minor": 0
      },
      "text/plain": [
       "HTMLMath(value='\\\\(3 a x - 6 x^{2}9 a x - 6 x^{2}\\\\)')"
      ]
     },
     "metadata": {},
     "output_type": "display_data"
    }
   ],
   "source": [
    "widgets.HTMLMath(\n",
    "    value=r\"\\(\" + problem + \"\\)\"\n",
    ")"
   ]
  },
  {
   "cell_type": "code",
   "execution_count": 64,
   "id": "03ca85aa",
   "metadata": {},
   "outputs": [
    {
     "data": {
      "text/plain": [
       "'z + U \\\\left(1 + \\\\frac{1}{z - 3 t_{\\\\perp}}\\\\right) + t_{\\\\perp}^{2} + d'"
      ]
     },
     "execution_count": 64,
     "metadata": {},
     "output_type": "execute_result"
    }
   ],
   "source": [
    "from sympy.printing.latex import LatexPrinter\n",
    "s=LatexPrinter(dict(order='none'))\n",
    "p = Add(*[eq.coeff(i)*i for i in (z, U, tp**2, d)],evaluate=False)\n",
    "s._print_Add(p)"
   ]
  },
  {
   "cell_type": "code",
   "execution_count": 50,
   "id": "9f835171",
   "metadata": {},
   "outputs": [
    {
     "data": {
      "image/png": "[encoded data removed]",
      "text/latex": [
       "$\\displaystyle \\left(4 a^{2} - 4 x^{2}\\right) + \\left(4 a^{2} + 6 a x + 2 x^{2}\\right)$"
      ],
      "text/plain": [
       "   2      2      2              2\n",
       "4⋅a  - 4⋅x  + 4⋅a  + 6⋅a⋅x + 2⋅x "
      ]
     },
     "execution_count": 50,
     "metadata": {},
     "output_type": "execute_result"
    }
   ],
   "source": [
    "Add(sympify(q1), sympify(q2), evaluate = False)"
   ]
  }
 ],
 "metadata": {
  "kernelspec": {
   "display_name": "Python 3",
   "language": "python",
   "name": "python3"
  },
  "language_info": {
   "codemirror_mode": {
    "name": "ipython",
    "version": 3
   },
   "file_extension": ".py",
   "mimetype": "text/x-python",
   "name": "python",
   "nbconvert_exporter": "python",
   "pygments_lexer": "ipython3",
   "version": "3.8.8"
  }
 },
 "nbformat": 4,
 "nbformat_minor": 5
}
