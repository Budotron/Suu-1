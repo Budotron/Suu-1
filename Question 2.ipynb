{
 "cells": [
  {
   "cell_type": "code",
   "execution_count": 79,
   "metadata": {},
   "outputs": [
    {
     "data": {
      "image/png": "[encoded data removed]",
      "text/latex": [
       "$\\displaystyle \\left[ \\left[ 1, \\  2\\right], \\  \\left[ -3, \\  -2\\right], \\  \\left[ 1, \\  2\\right], \\  \\left[ 2, \\  -3\\right]\\right]$"
      ],
      "text/plain": [
       "[[1, 2], [-3, -2], [1, 2], [2, -3]]"
      ]
     },
     "execution_count": 79,
     "metadata": {},
     "output_type": "execute_result"
    }
   ],
   "source": [
    "from ipywidgets import *\n",
    "from sympy import *\n",
    "init_printing()\n",
    "from sympy.abc import a, b, c, x, y, z\n",
    "from random import *\n",
    "import functools\n",
    "\n",
    "\n",
    "def choose (ListOfLetters):\n",
    "        picks = []\n",
    "        while len(picks)!=2:\n",
    "            picks = sample(range(0, len(ListOfLetters)), randint(1, len(ListOfLetters)))\n",
    "        return [ListOfLetters[p] for p in picks]\n",
    "\n",
    "LoL = [a, b, c, x, y, z]\n",
    "varlist = choose(LoL)\n",
    "coeffs = [x for x in range(-3,3) if x != 0]\n",
    "coefflist = [sample(coeffs, 2) for x in range(0,4)]\n",
    "coefflist"
   ]
  },
  {
   "cell_type": "code",
   "execution_count": 80,
   "metadata": {},
   "outputs": [],
   "source": [
    "elements = [[x*y for (x, y) in zip(varlist, coefflist[k])] for k in range(len(coefflist))] "
   ]
  },
  {
   "cell_type": "code",
   "execution_count": 81,
   "metadata": {},
   "outputs": [],
   "source": [
    "factors = [x+y for [x, y] in elements]"
   ]
  },
  {
   "cell_type": "code",
   "execution_count": 82,
   "metadata": {},
   "outputs": [
    {
     "data": {
      "image/png": "[encoded data removed]",
      "text/latex": [
       "$\\displaystyle - 3 a^{2} - 8 a y - 4 y^{2}$"
      ],
      "text/plain": [
       "     2              2\n",
       "- 3⋅a  - 8⋅a⋅y - 4⋅y "
      ]
     },
     "execution_count": 82,
     "metadata": {},
     "output_type": "execute_result"
    }
   ],
   "source": [
    "term1 = expand(factors[0]*factors[1])\n",
    "term1"
   ]
  },
  {
   "cell_type": "code",
   "execution_count": 83,
   "metadata": {},
   "outputs": [],
   "source": [
    "explode_term1 = term1.as_coefficients_dict()"
   ]
  },
  {
   "cell_type": "code",
   "execution_count": 84,
   "metadata": {},
   "outputs": [
    {
     "data": {
      "image/png": "[encoded data removed]",
      "text/latex": [
       "$\\displaystyle 2 a^{2} + a y - 6 y^{2}$"
      ],
      "text/plain": [
       "   2            2\n",
       "2⋅a  + a⋅y - 6⋅y "
      ]
     },
     "execution_count": 84,
     "metadata": {},
     "output_type": "execute_result"
    }
   ],
   "source": [
    "term2 = expand(factors[2]*factors[3])\n",
    "term2"
   ]
  },
  {
   "cell_type": "code",
   "execution_count": 85,
   "metadata": {},
   "outputs": [
    {
     "data": {
      "image/png": "[encoded data removed]",
      "text/latex": [
       "$\\displaystyle \\left\\{ a^{2} : 2, \\  y^{2} : -6, \\  a y : 1\\right\\}$"
      ],
      "text/plain": [
       "defaultdict(int,\n",
       "            ⎧ 2      2            ⎫\n",
       "⎨a : 2, y : -6, a⋅y: 1⎬\n",
       "⎩                     ⎭)"
      ]
     },
     "execution_count": 85,
     "metadata": {},
     "output_type": "execute_result"
    }
   ],
   "source": [
    "explode_term2 = term2.as_coefficients_dict()\n",
    "explode_term2"
   ]
  },
  {
   "cell_type": "code",
   "execution_count": 87,
   "metadata": {},
   "outputs": [
    {
     "data": {
      "image/png": "[encoded data removed]",
      "text/latex": [
       "$\\displaystyle a^{2} \\left(-3 + 2\\right) + y^{2} \\left(-6 - 4\\right) + a y \\left(-8 + 1\\right)$"
      ],
      "text/plain": [
       " 2             2                        \n",
       "a ⋅(-3 + 2) + y ⋅(-6 - 4) + a⋅y⋅(-8 + 1)"
      ]
     },
     "execution_count": 87,
     "metadata": {},
     "output_type": "execute_result"
    }
   ],
   "source": [
    "gathered  = sum([Mul(Add(v1, v2, evaluate = False), \n",
    "                     k1, evaluate = False) for (k1, v1) in explode_term1.items() \n",
    "                     for (k2,v2) in explode_term2.items() if simplify(k1-k2) == 0])\n",
    "gathered"
   ]
  },
  {
   "cell_type": "code",
   "execution_count": 88,
   "metadata": {},
   "outputs": [
    {
     "data": {
      "image/png": "[encoded data removed]",
      "text/latex": [
       "$\\displaystyle - a^{2} - 7 a y - 10 y^{2}$"
      ],
      "text/plain": [
       "   2               2\n",
       "- a  - 7⋅a⋅y - 10⋅y "
      ]
     },
     "execution_count": 88,
     "metadata": {},
     "output_type": "execute_result"
    }
   ],
   "source": [
    "gathered.doit()"
   ]
  },
  {
   "cell_type": "code",
   "execution_count": 106,
   "metadata": {},
   "outputs": [
    {
     "ename": "TypeError",
     "evalue": "unsupported operand type(s) for *: 'int' and 'NoneType'",
     "output_type": "error",
     "traceback": [
      "\u001b[0;31m---------------------------------------------------------------------------\u001b[0m",
      "\u001b[0;31mTypeError\u001b[0m                                 Traceback (most recent call last)",
      "\u001b[0;32m<ipython-input-106-d4322f0e7254>\u001b[0m in \u001b[0;36m<module>\u001b[0;34m\u001b[0m\n\u001b[0;32m----> 1\u001b[0;31m \u001b[0mz\u001b[0m\u001b[0;34m*\u001b[0m\u001b[0my\u001b[0m\u001b[0;34m.\u001b[0m\u001b[0mas_coefficient\u001b[0m\u001b[0;34m(\u001b[0m\u001b[0mz\u001b[0m\u001b[0;34m)\u001b[0m\u001b[0;34m\u001b[0m\u001b[0;34m\u001b[0m\u001b[0m\n\u001b[0m\u001b[1;32m      2\u001b[0m \u001b[0mp\u001b[0m \u001b[0;34m=\u001b[0m \u001b[0mMul\u001b[0m\u001b[0;34m(\u001b[0m\u001b[0ma\u001b[0m\u001b[0;34m,\u001b[0m \u001b[0mx\u001b[0m\u001b[0;34m)\u001b[0m\u001b[0;34m+\u001b[0m\u001b[0msympify\u001b[0m\u001b[0;34m(\u001b[0m\u001b[0;34m\"y*z\"\u001b[0m\u001b[0;34m,\u001b[0m \u001b[0mevaluate\u001b[0m \u001b[0;34m=\u001b[0m \u001b[0;32mFalse\u001b[0m\u001b[0;34m)\u001b[0m\u001b[0;34m\u001b[0m\u001b[0;34m\u001b[0m\u001b[0m\n\u001b[1;32m      3\u001b[0m \u001b[0mp\u001b[0m\u001b[0;34m.\u001b[0m\u001b[0mas_coefficients_dict\u001b[0m\u001b[0;34m(\u001b[0m\u001b[0;34m)\u001b[0m\u001b[0;34m\u001b[0m\u001b[0;34m\u001b[0m\u001b[0m\n",
      "\u001b[0;31mTypeError\u001b[0m: unsupported operand type(s) for *: 'int' and 'NoneType'"
     ]
    }
   ],
   "source": [
    "z*y.as_coefficient(z)\n",
    "p = Mul(a, x)+sympify(\"y*z\", evaluate = False)\n",
    "p.as_coefficients_dict()"
   ]
  }
 ],
 "metadata": {
  "kernelspec": {
   "display_name": "Python 3",
   "language": "python",
   "name": "python3"
  },
  "language_info": {
   "codemirror_mode": {
    "name": "ipython",
    "version": 3
   },
   "file_extension": ".py",
   "mimetype": "text/x-python",
   "name": "python",
   "nbconvert_exporter": "python",
   "pygments_lexer": "ipython3",
   "version": "3.7.6"
  }
 },
 "nbformat": 4,
 "nbformat_minor": 4
}
