{
 "cells": [
  {
   "cell_type": "code",
   "execution_count": 1,
   "id": "b6777bfd",
   "metadata": {},
   "outputs": [
    {
     "data": {
      "text/html": [
       "<script>jQuery(function() {if (jQuery(\"body.notebook_app\").length == 0) { jQuery(\".input_area\").toggle(); jQuery(\".prompt\").toggle();}});</script>"
      ]
     },
     "metadata": {},
     "output_type": "display_data"
    },
    {
     "data": {
      "text/html": [
       "<button onclick=\"jQuery('.input_area').toggle(); jQuery('.prompt').toggle();\">Toggle code</button>"
      ]
     },
     "metadata": {},
     "output_type": "display_data"
    },
    {
     "data": {
      "application/vnd.jupyter.widget-view+json": {
       "model_id": "cd39fd7ddd8f41509418bfc1935801b0",
       "version_major": 2,
       "version_minor": 0
      },
      "text/plain": [
       "VBox(children=(HTML(value='Completely simplify:'), HTMLMath(value='\\\\(6 a^{3} c^{3} + 15 a^{2} c^{2} + 6 a c +…"
      ]
     },
     "metadata": {},
     "output_type": "display_data"
    }
   ],
   "source": [
    "# Thanks to user394430 on StackOverflow for this!\n",
    "from IPython.display import display\n",
    "from IPython.display import HTML\n",
    "import IPython.core.display as di # Example: di.display_html('<h3>%s:</h3>' % str, raw=True)\n",
    "\n",
    "# This line will hide code by default when the notebook is exported as HTML\n",
    "di.display_html('<script>jQuery(function() {if (jQuery(\"body.notebook_app\").length == 0) { jQuery(\".input_area\").toggle(); jQuery(\".prompt\").toggle();}});</script>', raw=True)\n",
    "\n",
    "# This line will add a button to toggle visibility of code blocks, for use with the HTML export version\n",
    "di.display_html('''<button onclick=\"jQuery('.input_area').toggle(); jQuery('.prompt').toggle();\">Toggle code</button>''', raw=True)\n",
    "\n",
    "\n",
    "from ipywidgets import *\n",
    "from sympy import *\n",
    "init_printing()\n",
    "from sympy.abc import a, b, c, x, y, z\n",
    "from random import *\n",
    "import functools\n",
    "\n",
    "LoL = [a, b, c, x, y, z]\n",
    "\n",
    "degree = randint(2,4) # Randomly assign the degree of the simplified polynomial\n",
    "\n",
    "numvars = randint(1,2) # Randomly assign the number of variables to work with\n",
    "\n",
    "# Randomly choose between one or max elements of a list\n",
    "def choose (ListOfLetters, max):\n",
    "        picks = []\n",
    "        while len(picks)<1 or len(picks)>max:\n",
    "            picks = sample(range(0, len(ListOfLetters)), randint(1, len(ListOfLetters)))\n",
    "        return [ListOfLetters[p] for p in picks]\n",
    "    \n",
    "# Convert input expression to Latex code\n",
    "def tex(expression):\n",
    "    return latex(eval(str(expression)))\n",
    "\n",
    "# create a list of variables\n",
    "varlist = choose(LoL, numvars) # Choose variables\n",
    "varlist = [prod(varlist)] if randint(1,2) ==1 else varlist\n",
    "while len(varlist)<2:\n",
    "    varlist = varlist + [1]\n",
    "    \n",
    "# Create a list of coefficients    \n",
    "coeffs = [x for x in range(-3,3)] if randint(1,3) in {1, 2} else [Rational(x, y) for x in range(-3, 3) for y in range(-3, 3) if y != 0] \n",
    "coefflist1 = [sample(coeffs, 2) for x in range(0,degree)]\n",
    "coefflist2 = [sample(coeffs, 2) for x in range(0,degree)]\n",
    "\n",
    "# Multiply the variables by the coeffients\n",
    "elements1 = [[(x*y) for (x, y) in zip(varlist, coefflist1[k])] for k in range(len(coefflist1))]\n",
    "elements2 = [[(x*y) for (x, y) in zip(varlist, coefflist2[k])] for k in range(len(coefflist2))]\n",
    "\n",
    "# Create linear factors \n",
    "factors1 = [x+y for (x, y) in elements1]\n",
    "factors2 = [x+y for (x, y) in elements2]\n",
    "\n",
    "# Expand the linear factors\n",
    "term1 = expand(prod(factors1))\n",
    "term2 = expand(prod(factors2))\n",
    "solution = Add(term1, term2)\n",
    "solution_exploded = (sympify((\"+\").join([str(term1)]+[str(term2)]), evaluate = False))\n",
    "\n",
    "# Create a dictionary of variables and coefficients\n",
    "explode_term1 = term1.as_coefficients_dict()\n",
    "explode_term2 = term2.as_coefficients_dict()\n",
    "gathered  = sum([Mul(Add(v1, v2, evaluate = False), \n",
    "                     k1, evaluate = False) for (k1, v1) in explode_term1.items() \n",
    "                     for (k2,v2) in explode_term2.items() if simplify(k1-k2) == 0])\n",
    "\n",
    "# Catch terms in each dictionary that did not have the same keys\n",
    "missing1 =set(explode_term1.keys()).difference(set(explode_term2))\n",
    "filler1 =[explode_term1[m]*m for m in missing1]\n",
    "missing2 =set(explode_term2.keys()).difference(set(explode_term1))\n",
    "filler2 = [explode_term2[m]*m for m in missing2]\n",
    "full = sum([gathered]+filler1+filler2)\n",
    "\n",
    "# Produce the problem for display\n",
    "problem = tex(term1) + \" + \" + tex(term2) if LC(term2)>0 else tex(term1) + tex(term2)\n",
    "split_problem = problem.split(\" - \")\n",
    "catcher = 1\n",
    "while catcher !=-1:\n",
    "    shuffled = (\" - \").join(sample(split_problem, len(split_problem)))\n",
    "    catcher = shuffled.find(\"- -\")\n",
    "    \n",
    "# Create the problem \n",
    "instructions =widgets.HTML(\n",
    "    value=\"Completely simplify:\"\n",
    ")\n",
    "question = widgets.HTMLMath(\n",
    "            value=r\"\\(\" + shuffled + \"\\)\"\n",
    ")\n",
    "answer = widgets.Text(\n",
    "       value='0',\n",
    "       placeholder=\"\",\n",
    "       description='Answer', )\n",
    "button = widgets.Button(description='Check Answer')\n",
    "out = widgets.Output()\n",
    "def on_button_clicked(_):\n",
    "            with out:\n",
    "                out.clear_output()\n",
    "                print(\"Correct!\") if sympify(answer.value) - solution == 0 else print(\"Incorrect\")\n",
    "                display(widgets.HTML(\n",
    "                    value=\"Given:\"\n",
    "                    ))\n",
    "                display(widgets.HTMLMath(\n",
    "                  value = r\"\\(\" + shuffled +\"\\)\"\n",
    "                    ))\n",
    "                display(widgets.HTML(\n",
    "                    value=\"Gather like terms (This line can be skipped):\"\n",
    "                    ))\n",
    "                display(widgets.HTMLMath(\n",
    "                  value = r\"\\(\" + latex(solution_exploded) + \"\\)\"\n",
    "                    ))\n",
    "                display(widgets.HTML(\n",
    "                    value=\"Sum the coefficients of the like terms (This line can be skipped):\"\n",
    "                    ))\n",
    "                display(widgets.HTMLMath(\n",
    "                  value = r\"\\(\" + latex(full) + \"\\)\"\n",
    "                    ))\n",
    "                display(widgets.HTML(\n",
    "                    value=\"Resulting in (This line cannot be skipped):\"\n",
    "                    ))\n",
    "                display(widgets.HTMLMath(\n",
    "                  value = r\"\\(\" + latex(full.doit()) + \"\\)\"\n",
    "                    ))\n",
    "button.on_click(on_button_clicked)\n",
    "widgets.VBox([instructions, question, answer, button, out])"
   ]
  },
  {
   "cell_type": "code",
   "execution_count": null,
   "id": "8f88c276",
   "metadata": {},
   "outputs": [],
   "source": []
  }
 ],
 "metadata": {
  "kernelspec": {
   "display_name": "Python 3",
   "language": "python",
   "name": "python3"
  },
  "language_info": {
   "codemirror_mode": {
    "name": "ipython",
    "version": 3
   },
   "file_extension": ".py",
   "mimetype": "text/x-python",
   "name": "python",
   "nbconvert_exporter": "python",
   "pygments_lexer": "ipython3",
   "version": "3.8.8"
  }
 },
 "nbformat": 4,
 "nbformat_minor": 5
}
